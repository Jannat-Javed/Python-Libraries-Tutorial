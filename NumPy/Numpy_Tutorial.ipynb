{
 "cells": [
  {
   "cell_type": "code",
   "execution_count": 1,
   "metadata": {},
   "outputs": [],
   "source": [
    "import numpy as np"
   ]
  },
  {
   "cell_type": "markdown",
   "metadata": {},
   "source": [
    "# Array Creation"
   ]
  },
  {
   "cell_type": "code",
   "execution_count": 2,
   "metadata": {},
   "outputs": [
    {
     "name": "stdout",
     "output_type": "stream",
     "text": [
      "1D Array:\n",
      "[1 2 3 4 5]\n",
      "\n",
      "Zeros Array:\n",
      "[[0. 0. 0.]\n",
      " [0. 0. 0.]]\n",
      "\n",
      "Ones Array:\n",
      "[[1. 1.]\n",
      " [1. 1.]\n",
      " [1. 1.]]\n",
      "\n",
      "Full Array:\n",
      "[[7 7]\n",
      " [7 7]]\n",
      "\n",
      "Identity Matrix:\n",
      "[[1. 0. 0.]\n",
      " [0. 1. 0.]\n",
      " [0. 0. 1.]]\n",
      "\n",
      "Random Array:\n",
      "[[0.64384852 0.92144052]\n",
      " [0.81682509 0.62693536]]\n"
     ]
    }
   ],
   "source": [
    "# Basic array creation\n",
    "array_1d = np.array([1, 2, 3, 4, 5])\n",
    "print(\"1D Array:\")\n",
    "print(array_1d)\n",
    "\n",
    "# Creating arrays with predefined values\n",
    "zeros_array = np.zeros((2, 3))  # Array of zeros\n",
    "ones_array = np.ones((3, 2))    # Array of ones\n",
    "full_array = np.full((2, 2), 7)  # Array filled with 7\n",
    "identity_matrix = np.eye(3)     # Identity matrix\n",
    "random_array = np.random.rand(2, 2)  # Array with random values\n",
    "\n",
    "print(\"\\nZeros Array:\")\n",
    "print(zeros_array)\n",
    "print(\"\\nOnes Array:\")\n",
    "print(ones_array)\n",
    "print(\"\\nFull Array:\")\n",
    "print(full_array)\n",
    "print(\"\\nIdentity Matrix:\")\n",
    "print(identity_matrix)\n",
    "print(\"\\nRandom Array:\")\n",
    "print(random_array)\n"
   ]
  },
  {
   "cell_type": "markdown",
   "metadata": {},
   "source": [
    "# Array Indexing and Slicing"
   ]
  },
  {
   "cell_type": "code",
   "execution_count": 3,
   "metadata": {},
   "outputs": [
    {
     "name": "stdout",
     "output_type": "stream",
     "text": [
      "Element at index 2 in array_1d: 3\n",
      "Element at row 1, column 2 in array_2d: 6\n",
      "Sliced 1D array from index 1 to 4: [2 3 4]\n",
      "Sliced 2D array (rows 1 to end, columns 0 to 1):\n",
      "[[4 5]\n",
      " [7 8]]\n"
     ]
    }
   ],
   "source": [
    "# Creating a 2D array for indexing and slicing examples\n",
    "array_2d = np.array([[1, 2, 3], [4, 5, 6], [7, 8, 9]])\n",
    "\n",
    "# Indexing\n",
    "print(\"Element at index 2 in array_1d:\", array_1d[2])\n",
    "print(\"Element at row 1, column 2 in array_2d:\", array_2d[1, 2])\n",
    "\n",
    "# Slicing\n",
    "print(\"Sliced 1D array from index 1 to 4:\", array_1d[1:4])\n",
    "print(\"Sliced 2D array (rows 1 to end, columns 0 to 1):\")\n",
    "print(array_2d[1:, :2])\n"
   ]
  },
  {
   "cell_type": "markdown",
   "metadata": {},
   "source": [
    "# Mathematical Operations"
   ]
  },
  {
   "cell_type": "code",
   "execution_count": 4,
   "metadata": {},
   "outputs": [
    {
     "name": "stdout",
     "output_type": "stream",
     "text": [
      "Array after adding 10:\n",
      "[11 12 13 14 15]\n",
      "Array after multiplying by 2:\n",
      "[ 2  4  6  8 10]\n",
      "Element-wise sum of array1 and array2:\n",
      "[5 7 9]\n",
      "Matrix product of matrix1 and matrix2:\n",
      "[[19 22]\n",
      " [43 50]]\n",
      "Broadcasted addition result:\n",
      "[[5 6 7]\n",
      " [6 7 8]\n",
      " [7 8 9]]\n"
     ]
    }
   ],
   "source": [
    "\n",
    "array_sum = array_1d + 10\n",
    "array_product = array_1d * 2\n",
    "print(\"Array after adding 10:\")\n",
    "print(array_sum)\n",
    "print(\"Array after multiplying by 2:\")\n",
    "print(array_product)\n",
    "\n",
    "# Element-wise operations\n",
    "array1 = np.array([1, 2, 3])\n",
    "array2 = np.array([4, 5, 6])\n",
    "elementwise_sum = np.add(array1, array2)\n",
    "print(\"Element-wise sum of array1 and array2:\")\n",
    "print(elementwise_sum)\n",
    "\n",
    "# Matrix operations\n",
    "matrix1 = np.array([[1, 2], [3, 4]])\n",
    "matrix2 = np.array([[5, 6], [7, 8]])\n",
    "matrix_product = np.dot(matrix1, matrix2)\n",
    "print(\"Matrix product of matrix1 and matrix2:\")\n",
    "print(matrix_product)\n",
    "\n",
    "# Broadcasting\n",
    "array_a = np.array([1, 2, 3])\n",
    "array_b = np.array([[4], [5], [6]])\n",
    "broadcast_result = array_a + array_b\n",
    "print(\"Broadcasted addition result:\")\n",
    "print(broadcast_result)\n"
   ]
  },
  {
   "cell_type": "markdown",
   "metadata": {},
   "source": [
    "# Reshaping Arrays"
   ]
  },
  {
   "cell_type": "code",
   "execution_count": 5,
   "metadata": {},
   "outputs": [
    {
     "name": "stdout",
     "output_type": "stream",
     "text": [
      "\n",
      "Reshaping Arrays:\n",
      "Reshaped array (3x4):\n",
      "[[ 0  1  2  3]\n",
      " [ 4  5  6  7]\n",
      " [ 8  9 10 11]]\n",
      "Flattened array:\n",
      "[ 0  1  2  3  4  5  6  7  8  9 10 11]\n"
     ]
    }
   ],
   "source": [
    "\n",
    "reshaped_array = np.arange(12).reshape((3, 4))\n",
    "print(\"Reshaped array (3x4):\")\n",
    "print(reshaped_array)\n",
    "\n",
    "flattened_array = reshaped_array.flatten()\n",
    "print(\"Flattened array:\")\n",
    "print(flattened_array)\n"
   ]
  },
  {
   "cell_type": "markdown",
   "metadata": {},
   "source": [
    "# Broadcasting and Conditional Operations"
   ]
  },
  {
   "cell_type": "code",
   "execution_count": 6,
   "metadata": {},
   "outputs": [
    {
     "name": "stdout",
     "output_type": "stream",
     "text": [
      "Clipped array (values between 2 and 4):\n",
      "[2 2 3 4 4]\n",
      "Exponential of array_1d:\n",
      "[  2.71828183   7.3890561   20.08553692  54.59815003 148.4131591 ]\n",
      "Square root of array_1d:\n",
      "[1.         1.41421356 1.73205081 2.         2.23606798]\n"
     ]
    }
   ],
   "source": [
    "# Conditional operations\n",
    "clipped_array = np.clip(array_1d, 2, 4)\n",
    "print(\"Clipped array (values between 2 and 4):\")\n",
    "print(clipped_array)\n",
    "\n",
    "# Mathematical functions\n",
    "exp_array = np.exp(array_1d)\n",
    "sqrt_array = np.sqrt(array_1d)\n",
    "print(\"Exponential of array_1d:\")\n",
    "print(exp_array)\n",
    "print(\"Square root of array_1d:\")\n",
    "print(sqrt_array)\n"
   ]
  },
  {
   "cell_type": "markdown",
   "metadata": {},
   "source": [
    "# Polynomial Functions"
   ]
  },
  {
   "cell_type": "code",
   "execution_count": 7,
   "metadata": {},
   "outputs": [
    {
     "name": "stdout",
     "output_type": "stream",
     "text": [
      "Polynomial coefficients (degree 2):\n",
      "[ 1.00000000e+00 -2.00147285e-14  3.55405155e-14]\n",
      "Evaluated polynomial values:\n",
      "[ 1.  4.  9. 16. 25.]\n"
     ]
    }
   ],
   "source": [
    "# Polynomial fitting\n",
    "x = np.array([1, 2, 3, 4, 5])\n",
    "y = np.array([1, 4, 9, 16, 25])\n",
    "coefficients = np.polyfit(x, y, 2)  # Fit a quadratic polynomial\n",
    "print(\"Polynomial coefficients (degree 2):\")\n",
    "print(coefficients)\n",
    "polynomial_values = np.polyval(coefficients, x)\n",
    "print(\"Evaluated polynomial values:\")\n",
    "print(polynomial_values)\n"
   ]
  },
  {
   "cell_type": "markdown",
   "metadata": {},
   "source": [
    "# Random Sampling"
   ]
  },
  {
   "cell_type": "code",
   "execution_count": 8,
   "metadata": {},
   "outputs": [
    {
     "name": "stdout",
     "output_type": "stream",
     "text": [
      "Random samples from a normal distribution:\n",
      "[-1.3286573  -0.41753286 -2.011615    0.16743579 -0.71773249]\n",
      "Random choice from an array:\n",
      "[30 10 10]\n"
     ]
    }
   ],
   "source": [
    "# Random sampling\n",
    "random_samples = np.random.randn(5)  # Samples from a standard normal distribution\n",
    "print(\"Random samples from a normal distribution:\")\n",
    "print(random_samples)\n",
    "\n",
    "choices = np.array([10, 20, 30])\n",
    "random_choice = np.random.choice(choices, size=3)\n",
    "print(\"Random choice from an array:\")\n",
    "print(random_choice)\n"
   ]
  }
 ],
 "metadata": {
  "kernelspec": {
   "display_name": "Python 3",
   "language": "python",
   "name": "python3"
  },
  "language_info": {
   "codemirror_mode": {
    "name": "ipython",
    "version": 3
   },
   "file_extension": ".py",
   "mimetype": "text/x-python",
   "name": "python",
   "nbconvert_exporter": "python",
   "pygments_lexer": "ipython3",
   "version": "3.12.0"
  }
 },
 "nbformat": 4,
 "nbformat_minor": 2
}
